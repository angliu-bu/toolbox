{
  "nbformat": 4,
  "nbformat_minor": 0,
  "metadata": {
    "colab": {
      "name": "Untitled0.ipynb",
      "provenance": [],
      "authorship_tag": "ABX9TyM3PnCLyCpUv8WEOBFrhfSC",
      "include_colab_link": true
    },
    "kernelspec": {
      "name": "python3",
      "display_name": "Python 3"
    },
    "language_info": {
      "name": "python"
    }
  },
  "cells": [
    {
      "cell_type": "markdown",
      "metadata": {
        "id": "view-in-github",
        "colab_type": "text"
      },
      "source": [
        "<a href=\"https://colab.research.google.com/github/zhuofachen/collections/blob/main/Numpy_tutorial.ipynb\" target=\"_parent\"><img src=\"https://colab.research.google.com/assets/colab-badge.svg\" alt=\"Open In Colab\"/></a>"
      ]
    },
    {
      "cell_type": "code",
      "metadata": {
        "id": "lQs8TNWfs-G3"
      },
      "source": [
        "import numpy as np\n",
        "# from numpy import *"
      ],
      "execution_count": 13,
      "outputs": []
    },
    {
      "cell_type": "code",
      "metadata": {
        "colab": {
          "base_uri": "https://localhost:8080/"
        },
        "id": "rF32ffMdtHfl",
        "outputId": "d13deb31-8019-4711-e89a-839b14d34a2e"
      },
      "source": [
        "a = np.array([1,2,3,4])\n",
        "b = np.array([[1, 2], [3, 4]])\n",
        "print(a.size, b.size),  # The number of elements in the array is available through the ndarray.size property\n",
        "print(shape(a), shape(b))\n",
        "print(a.dtype, b.dtype)"
      ],
      "execution_count": 16,
      "outputs": [
        {
          "output_type": "stream",
          "text": [
            "4 4\n",
            "(4,) (2, 2)\n",
            "int64 int64\n"
          ],
          "name": "stdout"
        }
      ]
    },
    {
      "cell_type": "code",
      "metadata": {
        "colab": {
          "base_uri": "https://localhost:8080/"
        },
        "id": "6vMUyfE6tQf3",
        "outputId": "f90a3422-b308-45b3-98d8-28c2502e792c"
      },
      "source": [
        "M = array([[1,2], [3,4]], dtype=complex)\n",
        "print(M)"
      ],
      "execution_count": 17,
      "outputs": [
        {
          "output_type": "stream",
          "text": [
            "[[1.+0.j 2.+0.j]\n",
            " [3.+0.j 4.+0.j]]\n"
          ],
          "name": "stdout"
        }
      ]
    },
    {
      "cell_type": "code",
      "metadata": {
        "colab": {
          "base_uri": "https://localhost:8080/"
        },
        "id": "tbcy42lMuGk-",
        "outputId": "95118193-0a11-459b-cc2f-c67fc9524afe"
      },
      "source": [
        "x = arange(0, 10, 1)   # arguments: start, stop, step\n",
        "x = arange(-1, 1, 0.1)\n",
        "print(x)\n",
        "x = linspace(0,10,25)\n",
        "print(x)\n",
        "x = logspace(0, 10, 10, base=e)\n",
        "print(x)\n"
      ],
      "execution_count": 24,
      "outputs": [
        {
          "output_type": "stream",
          "text": [
            "[-1.00000000e+00 -9.00000000e-01 -8.00000000e-01 -7.00000000e-01\n",
            " -6.00000000e-01 -5.00000000e-01 -4.00000000e-01 -3.00000000e-01\n",
            " -2.00000000e-01 -1.00000000e-01 -2.22044605e-16  1.00000000e-01\n",
            "  2.00000000e-01  3.00000000e-01  4.00000000e-01  5.00000000e-01\n",
            "  6.00000000e-01  7.00000000e-01  8.00000000e-01  9.00000000e-01]\n",
            "[ 0.          0.41666667  0.83333333  1.25        1.66666667  2.08333333\n",
            "  2.5         2.91666667  3.33333333  3.75        4.16666667  4.58333333\n",
            "  5.          5.41666667  5.83333333  6.25        6.66666667  7.08333333\n",
            "  7.5         7.91666667  8.33333333  8.75        9.16666667  9.58333333\n",
            " 10.        ]\n",
            "[1.00000000e+00 3.03773178e+00 9.22781435e+00 2.80316249e+01\n",
            " 8.51525577e+01 2.58670631e+02 7.85771994e+02 2.38696456e+03\n",
            " 7.25095809e+03 2.20264658e+04]\n"
          ],
          "name": "stdout"
        }
      ]
    },
    {
      "cell_type": "code",
      "metadata": {
        "colab": {
          "base_uri": "https://localhost:8080/"
        },
        "id": "sZYTzDfUuVxQ",
        "outputId": "58830aaf-85b3-4cd3-d8e9-5711d3756379"
      },
      "source": [
        "x, y = mgrid[0:10, 0:5]\n",
        "print(x,   y)\n",
        "\n",
        "\n",
        "# print(x)\n",
        "# print(x)\n",
        "# print(x)\n",
        "# print(x)\n",
        "# print(x)\n",
        "# print(x)\n",
        "# print(x)\n",
        "# print(x)"
      ],
      "execution_count": 29,
      "outputs": [
        {
          "output_type": "stream",
          "text": [
            "[[0 0 0 0 0]\n",
            " [1 1 1 1 1]\n",
            " [2 2 2 2 2]\n",
            " [3 3 3 3 3]\n",
            " [4 4 4 4 4]\n",
            " [5 5 5 5 5]\n",
            " [6 6 6 6 6]\n",
            " [7 7 7 7 7]\n",
            " [8 8 8 8 8]\n",
            " [9 9 9 9 9]] [[0 1 2 3 4]\n",
            " [0 1 2 3 4]\n",
            " [0 1 2 3 4]\n",
            " [0 1 2 3 4]\n",
            " [0 1 2 3 4]\n",
            " [0 1 2 3 4]\n",
            " [0 1 2 3 4]\n",
            " [0 1 2 3 4]\n",
            " [0 1 2 3 4]\n",
            " [0 1 2 3 4]]\n"
          ],
          "name": "stdout"
        }
      ]
    },
    {
      "cell_type": "code",
      "metadata": {
        "colab": {
          "base_uri": "https://localhost:8080/"
        },
        "id": "DHL3IQfDvI8J",
        "outputId": "9cb7b4f8-4108-403c-8596-ca6d1e3ba861"
      },
      "source": [
        "from numpy import random\n",
        "x = random.rand(5,5) # uniform in [0, 1]\n",
        "print(x)\n",
        "x = random.randn(5,5)   # standard normal distributed random numbers\n",
        "print(x)"
      ],
      "execution_count": 32,
      "outputs": [
        {
          "output_type": "stream",
          "text": [
            "[[0.97401198 0.51852871 0.88484357 0.29669426 0.37879458]\n",
            " [0.15373764 0.9602638  0.54155043 0.82306846 0.46197304]\n",
            " [0.81029127 0.46190423 0.51578397 0.91182665 0.82408952]\n",
            " [0.07802746 0.6952533  0.85789472 0.69456557 0.79504427]\n",
            " [0.94374655 0.13713917 0.02162795 0.65624679 0.78161459]]\n",
            "[[-0.60494852 -0.4916956  -0.81329788  0.72728302 -1.81141708]\n",
            " [ 0.12204169  0.20013531  0.89458172 -0.90466987 -0.06050409]\n",
            " [ 0.57387947  1.39143654 -1.78506656  1.80843548 -0.05297378]\n",
            " [ 0.62622917 -0.56841636  0.0127683   1.71766259 -0.14834745]\n",
            " [ 1.22396657  0.84893154 -1.1364902   1.06989884  1.07807847]]\n"
          ],
          "name": "stdout"
        }
      ]
    },
    {
      "cell_type": "code",
      "metadata": {
        "colab": {
          "base_uri": "https://localhost:8080/"
        },
        "id": "RlAJuErZvkFx",
        "outputId": "fc6d43a0-d4c1-4f03-9e3e-4a8b93552bde"
      },
      "source": [
        "A =np.array([1,0.2,3,4,5])\n",
        "print(A[1:3])\n",
        "b = A * 2\n",
        "print(b)\n",
        "c = (A * 2 + 3)/2\n",
        "print(c)\n",
        "\n",
        "d = A * A\n",
        "print(d)\n",
        "A = "
      ],
      "execution_count": 45,
      "outputs": [
        {
          "output_type": "stream",
          "text": [
            "[0.2 3. ]\n",
            "[ 2.   0.4  6.   8.  10. ]\n",
            "[2.5 1.7 4.5 5.5 6.5]\n",
            "[ 1.    0.04  9.   16.   25.  ]\n"
          ],
          "name": "stdout"
        }
      ]
    },
    {
      "cell_type": "code",
      "metadata": {
        "id": "KFWEpJShwbFT"
      },
      "source": [
        "# file io\n",
        "save(\"random-matrix.npy\", M)\n",
        "savetxt(\"random-matrix.csv\", M, fmt='%.5f') # fmt specifies the format\n",
        "load(\"random-matrix.npy\")"
      ],
      "execution_count": null,
      "outputs": []
    },
    {
      "cell_type": "code",
      "metadata": {
        "colab": {
          "base_uri": "https://localhost:8080/"
        },
        "id": "9o_g3ibi37z8",
        "outputId": "871d5ec0-0596-4226-bd32-95214ad5cd35"
      },
      "source": [
        "# Indexing:\n",
        "A = np.array([[n + m * 10 for n in range(5)] for m in range(5)])\n",
        "print(A)\n",
        "print(A[::2, ::2])\n",
        "A[1:4, 1:4]"
      ],
      "execution_count": 50,
      "outputs": [
        {
          "output_type": "stream",
          "text": [
            "[[ 0  1  2  3  4]\n",
            " [10 11 12 13 14]\n",
            " [20 21 22 23 24]\n",
            " [30 31 32 33 34]\n",
            " [40 41 42 43 44]]\n",
            "[[ 0  2  4]\n",
            " [20 22 24]\n",
            " [40 42 44]]\n"
          ],
          "name": "stdout"
        },
        {
          "output_type": "execute_result",
          "data": {
            "text/plain": [
              "array([[11, 12, 13],\n",
              "       [21, 22, 23],\n",
              "       [31, 32, 33]])"
            ]
          },
          "metadata": {
            "tags": []
          },
          "execution_count": 50
        }
      ]
    },
    {
      "cell_type": "code",
      "metadata": {
        "colab": {
          "base_uri": "https://localhost:8080/"
        },
        "id": "A9jRh1Bo4LwH",
        "outputId": "a036ab77-2c5b-42e6-b22e-a4a04054723f"
      },
      "source": [
        "row_indices = [1, 2, 3]\n",
        "column_indices = [1, 2, -1]\n",
        "print(A[row_indices])\n",
        "print(A[row_indices, column_indices])\n",
        "\n",
        "mask = np.array([1, 0, 1, 0, 0], dtype=bool)\n",
        "print(A[mask])  # this makes it easily later if we have condition evaluation, then pass the bool vector. \n",
        "x = arange(0, 10, 0.5)\n",
        "mask = (5 < x) & (x < 7.5)\n",
        "print(mask)\n",
        "x[mask]\n",
        "\n",
        "\n",
        "# take\n",
        "v = arange(-3, 2)\n",
        "row_indices = [1,3, 4]\n",
        "print(v[row_indices])\n",
        "\n",
        "v.take(row_indices)\n",
        "\n",
        "# choose\n",
        "which = [1, 0, 1, 0, 1]\n",
        "choice = [[-2, -2, -2, -2, -2], [5,5,5,5,5]]\n",
        "choose(which, choice)"
      ],
      "execution_count": 71,
      "outputs": [
        {
          "output_type": "stream",
          "text": [
            "[[10 11 12 13 14]\n",
            " [20 21 22 23 24]\n",
            " [30 31 32 33 34]]\n",
            "[11 22 34]\n",
            "[[ 0  1  2  3  4]\n",
            " [20 21 22 23 24]]\n",
            "[False False False False False False False False False False False  True\n",
            "  True  True  True False False False False False]\n",
            "[-2  0  1]\n"
          ],
          "name": "stdout"
        },
        {
          "output_type": "execute_result",
          "data": {
            "text/plain": [
              "array([ 5, -2,  5, -2,  5])"
            ]
          },
          "metadata": {
            "tags": []
          },
          "execution_count": 71
        }
      ]
    },
    {
      "cell_type": "code",
      "metadata": {
        "colab": {
          "base_uri": "https://localhost:8080/"
        },
        "id": "D8uzMLTv4ig-",
        "outputId": "2649c957-6e2d-4283-a343-f32644ed0425"
      },
      "source": [
        "print(A)\n",
        "v = arange(1, 6)\n",
        "print(v)\n",
        "\n",
        "print(A*v)   # element wise\n",
        "print(v*v)\n",
        "print(A * A) # element wise\n"
      ],
      "execution_count": 79,
      "outputs": [
        {
          "output_type": "stream",
          "text": [
            "[[ 0  1  2  3  4]\n",
            " [10 11 12 13 14]\n",
            " [20 21 22 23 24]\n",
            " [30 31 32 33 34]\n",
            " [40 41 42 43 44]]\n",
            "[1 2 3 4 5]\n",
            "[[  0   2   6  12  20]\n",
            " [ 10  22  36  52  70]\n",
            " [ 20  42  66  92 120]\n",
            " [ 30  62  96 132 170]\n",
            " [ 40  82 126 172 220]]\n",
            "[ 1  4  9 16 25]\n",
            "[[   0    1    4    9   16]\n",
            " [ 100  121  144  169  196]\n",
            " [ 400  441  484  529  576]\n",
            " [ 900  961 1024 1089 1156]\n",
            " [1600 1681 1764 1849 1936]]\n"
          ],
          "name": "stdout"
        }
      ]
    },
    {
      "cell_type": "code",
      "metadata": {
        "colab": {
          "base_uri": "https://localhost:8080/"
        },
        "id": "8QQZ_-fH69Xh",
        "outputId": "d9f0008f-e8ce-4e87-8430-32da94061b7b"
      },
      "source": [
        "\n",
        "# matrix multiplication. \n",
        "y = dot(A, A)\n",
        "print(y)\n",
        "y = dot(A, v)\n",
        "print(y)\n",
        "y = dot(v,v)\n",
        "print(y)"
      ],
      "execution_count": 83,
      "outputs": [
        {
          "output_type": "stream",
          "text": [
            "[[ 300  310  320  330  340]\n",
            " [1300 1360 1420 1480 1540]\n",
            " [2300 2410 2520 2630 2740]\n",
            " [3300 3460 3620 3780 3940]\n",
            " [4300 4510 4720 4930 5140]]\n",
            "[ 40 190 340 490 640]\n",
            "55\n"
          ],
          "name": "stdout"
        }
      ]
    },
    {
      "cell_type": "code",
      "metadata": {
        "colab": {
          "base_uri": "https://localhost:8080/"
        },
        "id": "pzqDquBr7s8e",
        "outputId": "c5a091b7-262e-4a40-8456-c854c6c1e67f"
      },
      "source": [
        "# but if we cast the array to matrix, then we can use *  to do matrix multiplication\n",
        "\n",
        "M = matrix(A)\n",
        "v = matrix(v)\n",
        "print(M*v)\n",
        "print(v.T * v)"
      ],
      "execution_count": 87,
      "outputs": [
        {
          "output_type": "stream",
          "text": [
            "[[ 40]\n",
            " [190]\n",
            " [340]\n",
            " [490]\n",
            " [640]]\n",
            "[[55]]\n"
          ],
          "name": "stdout"
        }
      ]
    },
    {
      "cell_type": "code",
      "metadata": {
        "colab": {
          "base_uri": "https://localhost:8080/"
        },
        "id": "MbiyrMgh8HXn",
        "outputId": "0ae6319d-8b87-4b78-b324-708c2962a54f"
      },
      "source": [
        "# data processing\n",
        "print(A)\n",
        "print(mean(A[:, 3]))\n",
        "print(std(A[:, 3]))\n",
        "print(var(A[:, 3]))\n",
        "print(A.max())\n",
        "print(A[:,3].max())\n",
        "print(A[:,3].min())\n",
        "print(A.max(axis = 0))\n",
        "print(A.max(axis = 1))\n",
        "\n"
      ],
      "execution_count": 106,
      "outputs": [
        {
          "output_type": "stream",
          "text": [
            "[[ 0  1  2  3  4]\n",
            " [10 11 12 13 14]\n",
            " [20 21 22 23 24]\n",
            " [30 31 32 33 34]\n",
            " [40 41 42 43 44]]\n",
            "23.0\n",
            "14.142135623730951\n",
            "200.0\n",
            "44\n",
            "43\n",
            "3\n",
            "[40 41 42 43 44]\n",
            "[ 4 14 24 34 44]\n",
            "[[ 0  1  2  3  4 10 11 12 13 14 20 21 22 23 24 30 31 32 33 34 40 41 42 43\n",
            "  44]]\n",
            "[[ 0  1  2  3  4]\n",
            " [10 11 12 13 14]\n",
            " [20 21 22 23 24]\n",
            " [30 31 32 33 34]\n",
            " [40 41 42 43 44]]\n"
          ],
          "name": "stdout"
        }
      ]
    },
    {
      "cell_type": "code",
      "metadata": {
        "colab": {
          "base_uri": "https://localhost:8080/"
        },
        "id": "iWP3Kvc_-Ikn",
        "outputId": "448e0612-430f-4e5a-a226-b57731f956b4"
      },
      "source": [
        "n, m = A.shape\n",
        "print(A.reshape((1, n*m)))   # equals to A.flatten()\n",
        "print(A)\n",
        "b = np.array([0,0,0,0,0])\n",
        "print(vstack((A, b)))\n",
        "\n",
        "a = np.array([[1,2],[3,4]])\n",
        "\n",
        "b = np.array([[0,0]])   # note at this point, b should be [[]], not []\n",
        "print(a, b.T)\n",
        "print(hstack((a, b.T)))"
      ],
      "execution_count": 116,
      "outputs": [
        {
          "output_type": "stream",
          "text": [
            "[[ 0  1  2  3  4 10 11 12 13 14 20 21 22 23 24 30 31 32 33 34 40 41 42 43\n",
            "  44]]\n",
            "[[ 0  1  2  3  4]\n",
            " [10 11 12 13 14]\n",
            " [20 21 22 23 24]\n",
            " [30 31 32 33 34]\n",
            " [40 41 42 43 44]]\n",
            "[[ 0  1  2  3  4]\n",
            " [10 11 12 13 14]\n",
            " [20 21 22 23 24]\n",
            " [30 31 32 33 34]\n",
            " [40 41 42 43 44]\n",
            " [ 0  0  0  0  0]]\n",
            "[[1 2]\n",
            " [3 4]] [[0]\n",
            " [0]]\n",
            "[[1 2 0]\n",
            " [3 4 0]]\n"
          ],
          "name": "stdout"
        }
      ]
    },
    {
      "cell_type": "code",
      "metadata": {
        "colab": {
          "base_uri": "https://localhost:8080/"
        },
        "id": "4IgxWjhz8ZX3",
        "outputId": "39e54fad-6341-42bd-cf74-10ed8360bd90"
      },
      "source": [
        "# cumsum and  prod, cumprod\n",
        "d = arange(0, 10)\n",
        "print(cumsum(d))\n",
        "print(prod(d + 1))\n",
        "print(cumprod(d + 1))"
      ],
      "execution_count": 102,
      "outputs": [
        {
          "output_type": "stream",
          "text": [
            "[ 0  1  3  6 10 15 21 28 36 45]\n",
            "3628800\n",
            "[      1       2       6      24     120     720    5040   40320  362880\n",
            " 3628800]\n"
          ],
          "name": "stdout"
        }
      ]
    },
    {
      "cell_type": "code",
      "metadata": {
        "id": "rBHpyKKR9g1j"
      },
      "source": [
        "# months = arange(1,13)\n",
        "# monthly_mean = [mean(data[data[:,1] == month, 3]) for month in months]"
      ],
      "execution_count": null,
      "outputs": []
    },
    {
      "cell_type": "code",
      "metadata": {
        "colab": {
          "base_uri": "https://localhost:8080/"
        },
        "id": "pBG7AyVF9JOp",
        "outputId": "015d7168-f3d2-4359-d343-6d584bcb89aa"
      },
      "source": [
        "#vectorize function\n",
        "\n",
        "\n",
        "def Theta(x):\n",
        "    \"\"\"\n",
        "    Vector-aware implemenation of the Heaviside step function.\n",
        "    \"\"\"\n",
        "    return 1 * (x >= 0)\n",
        "\n",
        "print(Theta(array([-3,-2,-1,0,1,2,3])))\n",
        "print(Theta(-1.2), Theta(2.6))\n",
        "\n",
        "if (M > 5).any():\n",
        "    print(\"at least one element in M is larger than 5\")\n",
        "else:\n",
        "    print(\"no element in M is larger than 5\")"
      ],
      "execution_count": 119,
      "outputs": [
        {
          "output_type": "stream",
          "text": [
            "[0 0 0 1 1 1 1]\n",
            "0 1\n",
            "at least one element in M is larger than 5\n"
          ],
          "name": "stdout"
        }
      ]
    },
    {
      "cell_type": "code",
      "metadata": {
        "id": "RGwLooCQ_mUW"
      },
      "source": [
        ""
      ],
      "execution_count": null,
      "outputs": []
    }
  ]
}