{
  "nbformat": 4,
  "nbformat_minor": 0,
  "metadata": {
    "colab": {
      "name": "pandas tutorial.ipynb",
      "provenance": [],
      "collapsed_sections": [],
      "authorship_tag": "ABX9TyOXkYEEMex/SOab5z0Umy5Q",
      "include_colab_link": true
    },
    "kernelspec": {
      "name": "python3",
      "display_name": "Python 3"
    },
    "language_info": {
      "name": "python"
    }
  },
  "cells": [
    {
      "cell_type": "markdown",
      "metadata": {
        "id": "view-in-github",
        "colab_type": "text"
      },
      "source": [
        "<a href=\"https://colab.research.google.com/github/zhuofachen/toolbox/blob/main/pandas_tutorial.ipynb\" target=\"_parent\"><img src=\"https://colab.research.google.com/assets/colab-badge.svg\" alt=\"Open In Colab\"/></a>"
      ]
    },
    {
      "cell_type": "code",
      "metadata": {
        "id": "dyG7JiMRQC1r"
      },
      "source": [
        "import pandas as pd"
      ],
      "execution_count": 4,
      "outputs": []
    },
    {
      "cell_type": "code",
      "metadata": {
        "colab": {
          "base_uri": "https://localhost:8080/"
        },
        "id": "G26N_7PXQi51",
        "outputId": "86f10500-ad4e-4a1a-fd69-1cda9f91c1a1"
      },
      "source": [
        "data = { 'apples': [3, 2, 0, 1], 'oranges': [0, 2, 7, 2], 'bananas': [1, 2, 3, 4]}\n",
        "data"
      ],
      "execution_count": 6,
      "outputs": [
        {
          "output_type": "execute_result",
          "data": {
            "text/plain": [
              "{'apples': [3, 2, 0, 1], 'bananas': [1, 2, 3, 4], 'oranges': [0, 2, 7, 2]}"
            ]
          },
          "metadata": {
            "tags": []
          },
          "execution_count": 6
        }
      ]
    },
    {
      "cell_type": "code",
      "metadata": {
        "colab": {
          "base_uri": "https://localhost:8080/"
        },
        "id": "sE0nXpFfRNpu",
        "outputId": "2824fd0f-edc0-4162-f27b-6a656fad380a"
      },
      "source": [
        "purchases = pd.DataFrame(data)\n",
        "print(purchases)"
      ],
      "execution_count": 7,
      "outputs": [
        {
          "output_type": "stream",
          "text": [
            "   apples  oranges  bananas\n",
            "0       3        0        1\n",
            "1       2        2        2\n",
            "2       0        7        3\n",
            "3       1        2        4\n"
          ],
          "name": "stdout"
        }
      ]
    },
    {
      "cell_type": "code",
      "metadata": {
        "colab": {
          "base_uri": "https://localhost:8080/"
        },
        "id": "VZ9U9IB-RcQy",
        "outputId": "231d7bb6-3d0a-49b5-e58e-3248770a378e"
      },
      "source": [
        "purchases = pd.DataFrame(data, index=['June', 'Robert', 'Lily', 'David'])\n",
        "print(purchases)\n",
        "purchases.loc['June']\n",
        "purchases.columns"
      ],
      "execution_count": 13,
      "outputs": [
        {
          "output_type": "stream",
          "text": [
            "        apples  oranges  bananas\n",
            "June         3        0        1\n",
            "Robert       2        2        2\n",
            "Lily         0        7        3\n",
            "David        1        2        4\n"
          ],
          "name": "stdout"
        },
        {
          "output_type": "execute_result",
          "data": {
            "text/plain": [
              "Index(['apples', 'oranges', 'bananas'], dtype='object')"
            ]
          },
          "metadata": {
            "tags": []
          },
          "execution_count": 13
        }
      ]
    },
    {
      "cell_type": "code",
      "metadata": {
        "id": "TnE8-TYeR68m"
      },
      "source": [
        "movies_df = pd.read_csv(\"IMDB-Movie-Data.csv\", index_col=\"Title\")\n",
        "df = pd.read_json('purchases.json')\n",
        "movies_df.info()\n",
        "movies_df.describe()  # get the information of a dataframe\n",
        "\n",
        "import sqlite3\n",
        "connection = sqlite3.connect(\"database.db\")\n",
        "df = pd.read_sql_query(\"SELECT * FROM purchases\", connection)"
      ],
      "execution_count": null,
      "outputs": []
    },
    {
      "cell_type": "code",
      "metadata": {
        "id": "_R32i3nYqXON"
      },
      "source": [
        "df.isnull()\n",
        "df.isnull().sum()\n",
        "#remove nulls \n",
        "df.dropna(inplace=True)\n",
        "revenue.fillna(revenue_mean, inplace=True)\n",
        "df['genre'].value_counts.head(10) # shows the first 10 counts of the values in column 'genre'\n",
        "# get correlation between any two variables\n",
        "df.corr()\n",
        "# get data from two column\n",
        "subset = df[['genre', 'rating']]\n",
        "subset.head()\n",
        "\n",
        "# .loc - locates by name\n",
        "# .iloc- locates by numerical index\n",
        "\n",
        "# conditional selection?\n",
        "condition = (movies_df['director'] == \"Ridley Scott\")\n",
        "condition.head()\n",
        "movies_df[movies_df['director'] == \"Ridley Scott\"]\n",
        "movies_df[movies_df['rating'] >= 8.6].head(3)\n",
        "movies_df[(movies_df['director'] == 'Christopher Nolan') | (movies_df['director'] == 'Ridley Scott')].head()\n",
        "movies_df[movies_df['director'].isin(['Christopher Nolan', 'Ridley Scott'])].head()  # the same as last line\n",
        "\n",
        "Let's say we want all movies that were released between 2005 and 2010, have a rating above 8.0, but made below the 25th percentile in revenue\n",
        "movies_df[\n",
        "    ((movies_df['year'] >= 2005) & (movies_df['year'] <= 2010))\n",
        "    & (movies_df['rating'] > 8.0)\n",
        "    & (movies_df['revenue_millions'] < movies_df['revenue_millions'].quantile(0.25))\n",
        "]\n",
        "\n",
        "\n",
        "# we apply function to the column or a new column\n",
        "def rating_function(x):\n",
        "    if x >= 8.0:\n",
        "        return \"good\"\n",
        "    else:\n",
        "        return \"bad\"\n",
        "movies_df[\"rating_category\"] = movies_df[\"rating\"].apply(rating_function)\n",
        "# alternatively\n",
        "movies_df[\"rating_category\"] = movies_df[\"rating\"].apply(lambda x: 'good' if x >= 8.0 else 'bad')\n"
      ],
      "execution_count": null,
      "outputs": []
    },
    {
      "cell_type": "code",
      "metadata": {
        "id": "YazF76NXzX0r"
      },
      "source": [
        "# plot on dataframe\n",
        "import matplotlib.pyplot as plt\n",
        "plt.rcParams.update({'font.size': 20, 'figure.figsize': (10, 8)}) # set font and plot size to be larger\n",
        "\n",
        "movies_df['rating'].plot(kind=\"box\");\n",
        "movies_df['rating'].plot(kind='hist', title='Rating');\n",
        "movies_df.plot(kind='scatter', x='rating', y='revenue_millions', title='Revenue (millions) vs Rating');"
      ],
      "execution_count": null,
      "outputs": []
    }
  ]
}